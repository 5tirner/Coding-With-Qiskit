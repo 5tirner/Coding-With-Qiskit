{
 "cells": [
  {
   "cell_type": "code",
   "execution_count": 26,
   "metadata": {},
   "outputs": [],
   "source": [
    "import qiskit\n",
    "import pylatexenc\n",
    "import qiskit_ibm_runtime\n"
   ]
  },
  {
   "cell_type": "markdown",
   "metadata": {},
   "source": [
    "## Check Version"
   ]
  },
  {
   "cell_type": "code",
   "execution_count": 27,
   "metadata": {},
   "outputs": [
    {
     "name": "stdout",
     "output_type": "stream",
     "text": [
      "My Qiskit Version==1.1.1\n",
      "\n"
     ]
    }
   ],
   "source": [
    "print(f\"My Qiskit Version=={qiskit.__version__}\\n\")"
   ]
  },
  {
   "cell_type": "markdown",
   "metadata": {},
   "source": [
    "## Link qiskit To IBM's RunTime Envirenment"
   ]
  },
  {
   "cell_type": "code",
   "execution_count": 28,
   "metadata": {},
   "outputs": [
    {
     "name": "stdout",
     "output_type": "stream",
     "text": [
      "Link Qiskit To IBM's Runtime Environment: Success.\n",
      "\n",
      "My Account Saved Successfuly.\n",
      "\n"
     ]
    }
   ],
   "source": [
    "try:\n",
    "    myService = qiskit_ibm_runtime.QiskitRuntimeService(channel=\"ibm_quantum\",\n",
    "                    token='YourAPIToken')\n",
    "    print(\"Link Qiskit To IBM's Runtime Environment: Success.\\n\")\n",
    "except:\n",
    "    print(\"Link Qiskit To IBM's Runtime Environment: Failed.\\n\")\n",
    "\n",
    "try:\n",
    "    qiskit_ibm_runtime.QiskitRuntimeService.save_account(channel=\"ibm_quantum\",\n",
    "                    token='YourAPIToken', overwrite=True)\n",
    "    print(\"My Account Saved Successfuly.\\n\")\n",
    "except:\n",
    "    print(\"Can't Save This Acount.\\n\")"
   ]
  },
  {
   "cell_type": "markdown",
   "metadata": {},
   "source": [
    "## Get My Quantum computer"
   ]
  },
  {
   "cell_type": "code",
   "execution_count": 29,
   "metadata": {},
   "outputs": [
    {
     "name": "stdout",
     "output_type": "stream",
     "text": [
      "The Access To The ibm_sherbrooke Computer Done!\n",
      "\n"
     ]
    }
   ],
   "source": [
    "computerName = 'ibm_sherbrooke'\n",
    "try:\n",
    "    myQuantumComputer = myService.backend(name=computerName)\n",
    "    print(f\"The Access To The {computerName} Computer Done!\\n\")\n",
    "except:\n",
    "    print(f\"Can't Access To This Device: {computerName}.\\n\")"
   ]
  },
  {
   "cell_type": "markdown",
   "metadata": {},
   "source": [
    "# Check The Number Of QBits In My Computer"
   ]
  },
  {
   "cell_type": "code",
   "execution_count": 30,
   "metadata": {},
   "outputs": [
    {
     "name": "stdout",
     "output_type": "stream",
     "text": [
      "\n",
      "\n",
      "Number Of Qubits In The Computer ibm_sherbrooke: 127\n",
      "\n"
     ]
    }
   ],
   "source": [
    "print(f\"\\n\\nNumber Of Qubits In The Computer {computerName}: {myQuantumComputer.num_qubits}\\n\")"
   ]
  },
  {
   "cell_type": "markdown",
   "metadata": {},
   "source": [
    "## Prepare Two Qubits BellState"
   ]
  },
  {
   "cell_type": "markdown",
   "metadata": {},
   "source": [
    "* Step1: Map The Problem To Circuits And Operators"
   ]
  },
  {
   "cell_type": "code",
   "execution_count": 31,
   "metadata": {},
   "outputs": [
    {
     "name": "stdout",
     "output_type": "stream",
     "text": [
      "- Circuits.\n",
      "\n"
     ]
    },
    {
     "data": {
      "image/png": "[encoded data removed]",
      "text/plain": [
       "<Figure size 287.294x200.667 with 1 Axes>"
      ]
     },
     "execution_count": 31,
     "metadata": {},
     "output_type": "execute_result"
    }
   ],
   "source": [
    "print(\"- Circuits.\\n\")\n",
    "quantumCircuirs = qiskit.QuantumCircuit(2) # Generate Quantum Circuit That Has Two Qubits On It\n",
    "\n",
    "quantumCircuirs.h(0) # h Is The Hadamard Gate An It's A Quantum Gate In Computer Science That Creates A Superposition State From A Normal 0 Or 1.\n",
    "quantumCircuirs.cx(0, 1) # cx Is The Controlled Pauli-X Gate Also Called The CNOT Gate, This Gate Involves Two Qubits i And j In A n-qubit System.\n",
    "# (One of the two qubits (say qubit i) is the target qubit whereas the other qubit plays the role of control).\n",
    "quantumCircuirs.draw(output='mpl')"
   ]
  },
  {
   "cell_type": "code",
   "execution_count": 32,
   "metadata": {},
   "outputs": [
    {
     "name": "stdout",
     "output_type": "stream",
     "text": [
      "- Operators.\n",
      "\n",
      "ObservaBles=> [Pauli('ZZ'), Pauli('ZI'), Pauli('IZ'), Pauli('XX'), Pauli('XI'), Pauli('IX')]\n",
      "\n"
     ]
    }
   ],
   "source": [
    "print(\"- Operators.\\n\")\n",
    "# ZZ = qiskit.quantum_info.Pauli('ZZ')\n",
    "# ZI = qiskit.quantum_info.Pauli('ZI')\n",
    "# IZ = qiskit.quantum_info.Pauli('IZ')\n",
    "# XX = qiskit.quantum_info.Pauli('XX')\n",
    "# XI = qiskit.quantum_info.Pauli('XI')\n",
    "# IX = qiskit.quantum_info.Pauli('IX')\n",
    "operatorsStr = [\"ZZ\", \"ZI\", \"IZ\", \"XX\", \"XI\", \"IX\"]\n",
    "observables = list()\n",
    "\n",
    "for i in operatorsStr:\n",
    "    observables.append(qiskit.quantum_info.Pauli(i))\n",
    "print(f\"ObservaBles=> {observables}\\n\")"
   ]
  },
  {
   "cell_type": "markdown",
   "metadata": {},
   "source": [
    "* Step2: Optimize The Circuit Of The Observables"
   ]
  },
  {
   "cell_type": "code",
   "execution_count": 33,
   "metadata": {},
   "outputs": [
    {
     "name": "stdout",
     "output_type": "stream",
     "text": [
      "NB: Nothing To Optimize Here So Skip :D.\n"
     ]
    }
   ],
   "source": [
    "print('NB: Nothing To Optimize Here So Skip :D.')"
   ]
  },
  {
   "cell_type": "markdown",
   "metadata": {},
   "source": [
    "* Step3: Execute On The Backend"
   ]
  },
  {
   "cell_type": "code",
   "execution_count": 34,
   "metadata": {},
   "outputs": [],
   "source": [
    "import qiskit_aer.primitives"
   ]
  },
  {
   "cell_type": "markdown",
   "metadata": {},
   "source": [
    "An Estimator Primitive computes expectation values of observables with respect to states prepared by quantum circuits.\\\n",
    "Users generally specify a list of circuits, observables, and possibly some additional configuration, with which the program can efficiently evaluate expectation values and variances."
   ]
  },
  {
   "cell_type": "code",
   "execution_count": 46,
   "metadata": {},
   "outputs": [
    {
     "name": "stdout",
     "output_type": "stream",
     "text": [
      "The Expectation Values Of Our Observales By Using The States Prepared By `quantumCircuits` Are:\n",
      "For The Elment ZZ=> 1.0\n",
      "For The Elment ZI=> -0.033203125\n",
      "For The Elment IZ=> -0.033203125\n",
      "For The Elment XX=> 1.0\n",
      "For The Elment XI=> -0.0234375\n",
      "For The Elment IX=> -0.0234375\n"
     ]
    }
   ],
   "source": [
    "myEstimator = qiskit_aer.primitives.Estimator()\n",
    "TheJob = myEstimator.run([quantumCircuirs] * len(observables), observables)\n",
    "values = TheJob.result().values\n",
    "print(f\"The Expectation Values Of Our Observales By Using The States Prepared By `quantumCircuits` Are:\")\n",
    "for i in range(len(values)):\n",
    "    print(f\"For The Elment {operatorsStr[i]}=> {values[i]}\")"
   ]
  },
  {
   "cell_type": "markdown",
   "metadata": {},
   "source": [
    "## Step4: Post Process And Plotting"
   ]
  },
  {
   "cell_type": "code",
   "execution_count": 47,
   "metadata": {},
   "outputs": [
    {
     "data": {
      "image/png": "[encoded data removed]",
      "text/plain": [
       "<Figure size 640x480 with 1 Axes>"
      ]
     },
     "metadata": {},
     "output_type": "display_data"
    }
   ],
   "source": [
    "import matplotlib.pyplot\n",
    "\n",
    "matplotlib.pyplot.plot(operatorsStr, values, '-o')\n",
    "matplotlib.pyplot.xlabel(\"Observables\")\n",
    "matplotlib.pyplot.ylabel(\"Exception Values\")\n",
    "matplotlib.pyplot.show()"
   ]
  }
 ],
 "metadata": {
  "kernelspec": {
   "display_name": "myenv",
   "language": "python",
   "name": "python3"
  },
  "language_info": {
   "codemirror_mode": {
    "name": "ipython",
    "version": 3
   },
   "file_extension": ".py",
   "mimetype": "text/x-python",
   "name": "python",
   "nbconvert_exporter": "python",
   "pygments_lexer": "ipython3",
   "version": "3.11.9"
  }
 },
 "nbformat": 4,
 "nbformat_minor": 2
}
